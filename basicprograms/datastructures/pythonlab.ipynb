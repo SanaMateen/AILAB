{
  "nbformat": 4,
  "nbformat_minor": 0,
  "metadata": {
    "colab": {
      "provenance": [],
      "collapsed_sections": []
    },
    "kernelspec": {
      "name": "python3",
      "display_name": "Python 3"
    },
    "language_info": {
      "name": "python"
    }
  },
  "cells": [
    {
      "cell_type": "markdown",
      "source": [
        "A list is an ordered data structure with elements separated by a comma and enclosed within square brackets. For example, list1 and list2 shown below contains a single type of data."
      ],
      "metadata": {
        "id": "_mFqnmtCANQx"
      }
    },
    {
      "cell_type": "code",
      "source": [
        "list=[1,2,\"apple\"]\n",
        "print(type(list))"
      ],
      "metadata": {
        "colab": {
          "base_uri": "https://localhost:8080/"
        },
        "id": "lfGKoskOVaSe",
        "outputId": "f4c1fa53-38ec-48d3-a98f-ad38996740c4"
      },
      "execution_count": null,
      "outputs": [
        {
          "output_type": "stream",
          "name": "stdout",
          "text": [
            "<class 'list'>\n"
          ]
        }
      ]
    },
    {
      "cell_type": "code",
      "source": [
        "list2=[3,4,6]\n",
        "#adds the list2 at the end of the first list\n",
        "list.append(list2)\n",
        "print(list)\n",
        "#displays the index of the given element in the list \n",
        "print(list.index('apple'))"
      ],
      "metadata": {
        "colab": {
          "base_uri": "https://localhost:8080/"
        },
        "id": "0loOxgizBx0c",
        "outputId": "31493039-584f-4a53-ba8e-bea6cbdb952c"
      },
      "execution_count": null,
      "outputs": [
        {
          "output_type": "stream",
          "name": "stdout",
          "text": [
            "[1, 2, 'apple', [3, 4, 6]]\n",
            "2\n"
          ]
        }
      ]
    },
    {
      "cell_type": "code",
      "source": [
        "#removes the last element that has been added to the list\n",
        "print(list.pop())"
      ],
      "metadata": {
        "colab": {
          "base_uri": "https://localhost:8080/"
        },
        "id": "7QVQqG8TWKrd",
        "outputId": "4735ead5-e5ef-4d55-f966-6860e08ccc7e"
      },
      "execution_count": null,
      "outputs": [
        {
          "output_type": "stream",
          "name": "stdout",
          "text": [
            "[3, 4, 6]\n"
          ]
        }
      ]
    },
    {
      "cell_type": "code",
      "source": [
        "list.append(2)\n",
        "#counts the number of occurence of the given element\n",
        "print(list.count(2))"
      ],
      "metadata": {
        "colab": {
          "base_uri": "https://localhost:8080/"
        },
        "id": "YEKMQzqiWjLI",
        "outputId": "0fb9d01e-5fc0-4f23-9885-3720e85f02a8"
      },
      "execution_count": null,
      "outputs": [
        {
          "output_type": "stream",
          "name": "stdout",
          "text": [
            "2\n"
          ]
        }
      ]
    },
    {
      "cell_type": "code",
      "source": [
        "fruits=['apple','banana','mango']\n",
        "\n",
        "print(fruits)\n"
      ],
      "metadata": {
        "id": "hJZTgp4DV8Xk",
        "colab": {
          "base_uri": "https://localhost:8080/"
        },
        "outputId": "f91882ac-0af3-449a-9b6b-5ee5f2785564"
      },
      "execution_count": null,
      "outputs": [
        {
          "output_type": "stream",
          "name": "stdout",
          "text": [
            "['apple', 'banana', 'mango']\n"
          ]
        }
      ]
    },
    {
      "cell_type": "code",
      "source": [
        "#appends orange to the fruits list\n",
        "fruits.append('orange')"
      ],
      "metadata": {
        "id": "D-ncaWt7Y4Y7"
      },
      "execution_count": null,
      "outputs": []
    },
    {
      "cell_type": "code",
      "source": [
        "fruits"
      ],
      "metadata": {
        "colab": {
          "base_uri": "https://localhost:8080/"
        },
        "id": "d2eKcYSdY_n5",
        "outputId": "178bf160-99bd-4b0a-b32c-91541d40ab7d"
      },
      "execution_count": null,
      "outputs": [
        {
          "output_type": "execute_result",
          "data": {
            "text/plain": [
              "['apple', 'banana', 'mango', 'orange']"
            ]
          },
          "metadata": {},
          "execution_count": 18
        }
      ]
    },
    {
      "cell_type": "code",
      "source": [
        "flavor=['vanilla','butter scotch']\n",
        "#append flavor list to fruits list\n",
        "fruits.append(flavor)\n",
        "print(fruits)"
      ],
      "metadata": {
        "colab": {
          "base_uri": "https://localhost:8080/"
        },
        "id": "7t76LO0bZB06",
        "outputId": "001518d7-9cc8-4c2b-f4e0-c60422a8b7a0"
      },
      "execution_count": null,
      "outputs": [
        {
          "output_type": "stream",
          "name": "stdout",
          "text": [
            "['apple', 'banana', 'mango', 'orange', ['vanilla', 'butter scotch']]\n"
          ]
        }
      ]
    },
    {
      "cell_type": "code",
      "source": [
        "#reverse the order of elements in the list\n",
        "fruits.reverse()"
      ],
      "metadata": {
        "id": "c8dAdd6FZYPK"
      },
      "execution_count": null,
      "outputs": []
    },
    {
      "cell_type": "code",
      "source": [
        "fruits"
      ],
      "metadata": {
        "colab": {
          "base_uri": "https://localhost:8080/"
        },
        "id": "Hi_jXb0OZfib",
        "outputId": "654f3de0-7e0a-4b14-ffec-2c52830dd08b"
      },
      "execution_count": null,
      "outputs": [
        {
          "output_type": "execute_result",
          "data": {
            "text/plain": [
              "['apple', 'banana', 'mango', 'orange', ['vanilla', 'butter scotch']]"
            ]
          },
          "metadata": {},
          "execution_count": 23
        }
      ]
    },
    {
      "cell_type": "code",
      "source": [
        "#copies the fruits list into merged\n",
        "merged=fruits.copy()\n",
        "print(type(merged))"
      ],
      "metadata": {
        "colab": {
          "base_uri": "https://localhost:8080/"
        },
        "id": "JzrcQHyoZhia",
        "outputId": "5c051106-f628-4ea9-8744-cf4e9a848e32"
      },
      "execution_count": null,
      "outputs": [
        {
          "output_type": "stream",
          "name": "stdout",
          "text": [
            "<class 'list'>\n"
          ]
        }
      ]
    },
    {
      "cell_type": "code",
      "source": [
        "print(merged)"
      ],
      "metadata": {
        "colab": {
          "base_uri": "https://localhost:8080/"
        },
        "id": "a7FJSQelZsJq",
        "outputId": "bc33fa0e-e541-4ce6-969f-dfa7a5b2b72d"
      },
      "execution_count": null,
      "outputs": [
        {
          "output_type": "stream",
          "name": "stdout",
          "text": [
            "['apple', 'banana', 'mango', 'orange', ['vanilla', 'butter scotch']]\n"
          ]
        }
      ]
    },
    {
      "cell_type": "code",
      "source": [
        "#remove the specified element from the list\n",
        "merged.remove('apple')"
      ],
      "metadata": {
        "id": "k1ovydwaZvKS"
      },
      "execution_count": null,
      "outputs": []
    },
    {
      "cell_type": "code",
      "source": [
        "print(merged)"
      ],
      "metadata": {
        "colab": {
          "base_uri": "https://localhost:8080/"
        },
        "id": "isE1HoSSZ5YZ",
        "outputId": "6bfc4c27-0b34-4410-e062-890aae4b0152"
      },
      "execution_count": null,
      "outputs": [
        {
          "output_type": "stream",
          "name": "stdout",
          "text": [
            "['banana', 'mango', 'orange', ['vanilla', 'butter scotch']]\n"
          ]
        }
      ]
    },
    {
      "cell_type": "code",
      "source": [
        "flavor"
      ],
      "metadata": {
        "colab": {
          "base_uri": "https://localhost:8080/"
        },
        "id": "kHZJXaVHHH9g",
        "outputId": "356c9a95-d00e-4237-c6a5-721ea6c53a03"
      },
      "execution_count": null,
      "outputs": [
        {
          "output_type": "execute_result",
          "data": {
            "text/plain": [
              "['vanilla', 'butter scotch']"
            ]
          },
          "metadata": {},
          "execution_count": 28
        }
      ]
    },
    {
      "cell_type": "code",
      "source": [
        "#sorts the list element\n",
        "flavor.sort()"
      ],
      "metadata": {
        "id": "CBVMldaFZ8k5"
      },
      "execution_count": null,
      "outputs": []
    },
    {
      "cell_type": "code",
      "source": [
        "flavor"
      ],
      "metadata": {
        "colab": {
          "base_uri": "https://localhost:8080/"
        },
        "id": "1ew9SRZHalMK",
        "outputId": "7e3837dc-9b45-4d2f-a0b4-3e0f195eeba4"
      },
      "execution_count": null,
      "outputs": [
        {
          "output_type": "execute_result",
          "data": {
            "text/plain": [
              "['butter scotch', 'vanilla']"
            ]
          },
          "metadata": {},
          "execution_count": 31
        }
      ]
    },
    {
      "cell_type": "code",
      "source": [
        "#displays the index of the specified element\n",
        "flavor.index('vanilla')"
      ],
      "metadata": {
        "colab": {
          "base_uri": "https://localhost:8080/"
        },
        "id": "sdNAcmjVaoDh",
        "outputId": "c982438d-ccbc-477a-b378-1996a89c9774"
      },
      "execution_count": null,
      "outputs": [
        {
          "output_type": "execute_result",
          "data": {
            "text/plain": [
              "1"
            ]
          },
          "metadata": {},
          "execution_count": 32
        }
      ]
    },
    {
      "cell_type": "code",
      "source": [
        "merged"
      ],
      "metadata": {
        "colab": {
          "base_uri": "https://localhost:8080/"
        },
        "id": "GFbgPRvNHhX-",
        "outputId": "3e7d8f35-7aa3-4830-ba1e-97cbb6fd15bc"
      },
      "execution_count": null,
      "outputs": [
        {
          "output_type": "execute_result",
          "data": {
            "text/plain": [
              "['banana',\n",
              " 'mango',\n",
              " 'orange',\n",
              " ['butter scotch', 'vanilla'],\n",
              " 'butter scotch',\n",
              " 'vanilla']"
            ]
          },
          "metadata": {},
          "execution_count": 35
        }
      ]
    },
    {
      "cell_type": "code",
      "source": [
        "#adds the  elements of flavor list to merged list\n",
        "merged.extend(flavor)"
      ],
      "metadata": {
        "id": "MVPhSi1fayVK"
      },
      "execution_count": null,
      "outputs": []
    },
    {
      "cell_type": "code",
      "source": [
        "merged"
      ],
      "metadata": {
        "colab": {
          "base_uri": "https://localhost:8080/"
        },
        "id": "mhF-lqZsa7Ih",
        "outputId": "97e498d3-863b-41c7-b81d-bcdd7a888efa"
      },
      "execution_count": null,
      "outputs": [
        {
          "output_type": "execute_result",
          "data": {
            "text/plain": [
              "['banana',\n",
              " 'mango',\n",
              " 'orange',\n",
              " ['butter scotch', 'vanilla'],\n",
              " 'butter scotch',\n",
              " 'vanilla',\n",
              " 'butter scotch',\n",
              " 'vanilla']"
            ]
          },
          "metadata": {},
          "execution_count": 37
        }
      ]
    },
    {
      "cell_type": "code",
      "source": [],
      "metadata": {
        "id": "XczHNISvbCXR"
      },
      "execution_count": null,
      "outputs": []
    }
  ]
}